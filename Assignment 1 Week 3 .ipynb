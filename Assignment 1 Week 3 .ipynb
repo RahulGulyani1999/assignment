{
 "cells": [
  {
   "cell_type": "code",
   "execution_count": 1,
   "id": "f1939e6a-90c1-41c5-8017-ce327870a181",
   "metadata": {},
   "outputs": [],
   "source": [
    "# Question-1 - Answer"
   ]
  },
  {
   "cell_type": "code",
   "execution_count": 2,
   "id": "afad43c0-2d59-4c8a-8caa-84aeac578b07",
   "metadata": {},
   "outputs": [],
   "source": [
    "# def keyword meaning definition is used to create a function an example is given below."
   ]
  },
  {
   "cell_type": "code",
   "execution_count": 4,
   "id": "59a33a06-cbf1-47f6-a1e3-bb350ad94b29",
   "metadata": {},
   "outputs": [
    {
     "data": {
      "text/plain": [
       "range(1, 25)"
      ]
     },
     "execution_count": 4,
     "metadata": {},
     "output_type": "execute_result"
    }
   ],
   "source": [
    "range( 1,25)"
   ]
  },
  {
   "cell_type": "code",
   "execution_count": 7,
   "id": "95f527e4-5ddf-4605-9172-33cd46229913",
   "metadata": {},
   "outputs": [],
   "source": [
    "def test():\n",
    "    l1=[]\n",
    "    for i in range(1,25):\n",
    "        if i%2 !=0:\n",
    "            l1.append(i)\n",
    "    return l1"
   ]
  },
  {
   "cell_type": "code",
   "execution_count": 8,
   "id": "b4d03459-b261-4b6a-9c62-562bc4dac589",
   "metadata": {},
   "outputs": [
    {
     "data": {
      "text/plain": [
       "[1, 3, 5, 7, 9, 11, 13, 15, 17, 19, 21, 23]"
      ]
     },
     "execution_count": 8,
     "metadata": {},
     "output_type": "execute_result"
    }
   ],
   "source": [
    "test()"
   ]
  },
  {
   "cell_type": "code",
   "execution_count": 9,
   "id": "fa024dfe-6f98-443f-b59e-f24a762ad57b",
   "metadata": {},
   "outputs": [],
   "source": [
    "# Question - 2- Answer"
   ]
  },
  {
   "cell_type": "code",
   "execution_count": 11,
   "id": "db9e8421-aa14-422c-ab03-0556dd407e5d",
   "metadata": {},
   "outputs": [
    {
     "data": {
      "text/plain": [
       "'*args and **kwargs allow you to pass multiple arguments or keyword arguments to a function.\\n*args can be really useful, because it allows you to pass a varying number of positional arguments.\\nargs is just a name. You’re not required to use the name args\\nkeep in mind that the iterable object you’ll get using the unpacking operator * is not a list but a tuple. A tuple is similar to a list in that they both support slicing and iteration. However, tuples are very different in at least one aspect: lists are mutable, while tuples are not. \\n **kwargs works just like *args, but instead of accepting positional arguments it accepts keyword (or named) arguments\\n Like args, kwargs is just a name that can be changed to whatever you want. Again, what is important here is the use of the unpacking operator (**).\\nIn short, the unpacking operators are operators that unpack the values from iterable objects in Python. The single asterisk operator * can be used on any iterable that Python provides, while the double asterisk operator ** can only be used on dictionaries.'"
      ]
     },
     "execution_count": 11,
     "metadata": {},
     "output_type": "execute_result"
    }
   ],
   "source": [
    "'''*args and **kwargs allow you to pass multiple arguments or keyword arguments to a function.\n",
    "*args can be really useful, because it allows you to pass a varying number of positional arguments.\n",
    "args is just a name. You’re not required to use the name args\n",
    "keep in mind that the iterable object you’ll get using the unpacking operator * is not a list but a tuple. A tuple is similar to a list in that they both support slicing and iteration. However, tuples are very different in at least one aspect: lists are mutable, while tuples are not. \n",
    " **kwargs works just like *args, but instead of accepting positional arguments it accepts keyword (or named) arguments\n",
    " Like args, kwargs is just a name that can be changed to whatever you want. Again, what is important here is the use of the unpacking operator (**).\n",
    "In short, the unpacking operators are operators that unpack the values from iterable objects in Python. The single asterisk operator * can be used on any iterable that Python provides, while the double asterisk operator ** can only be used on dictionaries.'''\n",
    "\n",
    "\n"
   ]
  },
  {
   "cell_type": "code",
   "execution_count": 12,
   "id": "460eeb64-6e8a-40ef-ae6f-1c8164c8330d",
   "metadata": {},
   "outputs": [],
   "source": [
    "# let us create a function using *args"
   ]
  },
  {
   "cell_type": "code",
   "execution_count": 14,
   "id": "e66cf8e2-c9dc-42e7-892a-95ed3d2567eb",
   "metadata": {},
   "outputs": [],
   "source": [
    "def test1(*args):\n",
    "    return args"
   ]
  },
  {
   "cell_type": "code",
   "execution_count": 15,
   "id": "51c84c61-33fb-4e30-9efd-58e924815dd7",
   "metadata": {},
   "outputs": [
    {
     "data": {
      "text/plain": [
       "(123, 94, 'pwskills', 'content creator')"
      ]
     },
     "execution_count": 15,
     "metadata": {},
     "output_type": "execute_result"
    }
   ],
   "source": [
    "test1(123,94,'pwskills','content creator')"
   ]
  },
  {
   "cell_type": "code",
   "execution_count": 16,
   "id": "4a54fa85-d08e-430c-af97-7c42f01465af",
   "metadata": {},
   "outputs": [],
   "source": [
    "# let us create a function using **kwargs"
   ]
  },
  {
   "cell_type": "code",
   "execution_count": 17,
   "id": "eedfcf3f-489a-453c-9e19-8766cafabe56",
   "metadata": {},
   "outputs": [],
   "source": [
    "def test2(**kwargs):\n",
    "    return kwargs"
   ]
  },
  {
   "cell_type": "code",
   "execution_count": 26,
   "id": "f9d54840-b6fc-46b0-893e-4d525cd59acc",
   "metadata": {},
   "outputs": [
    {
     "data": {
      "text/plain": [
       "{'a': 'rahul', 'b': 'contentcreator', 'c': 123, 'd': 'hustle'}"
      ]
     },
     "execution_count": 26,
     "metadata": {},
     "output_type": "execute_result"
    }
   ],
   "source": [
    "test2(a = 'rahul',b= 'contentcreator',c=123,d= 'hustle' )"
   ]
  },
  {
   "cell_type": "code",
   "execution_count": 47,
   "id": "f3f0d920-f25e-491d-9eab-e3d8d3bc90e6",
   "metadata": {},
   "outputs": [],
   "source": [
    "# Question-7- Answer"
   ]
  },
  {
   "cell_type": "code",
   "execution_count": 4,
   "id": "1011f0e4-3581-49b2-a121-5a7df254ffb8",
   "metadata": {},
   "outputs": [],
   "source": [
    "s='pwskills'"
   ]
  },
  {
   "cell_type": "code",
   "execution_count": 5,
   "id": "46dab502-ce7a-456f-bf26-ca7f45da3bfd",
   "metadata": {},
   "outputs": [],
   "source": [
    "l1=[]\n",
    "for i in s:\n",
    "    l1.append(i)"
   ]
  },
  {
   "cell_type": "code",
   "execution_count": 6,
   "id": "06a71971-eb98-4787-addd-af5281fe0a48",
   "metadata": {},
   "outputs": [
    {
     "data": {
      "text/plain": [
       "['p', 'w', 's', 'k', 'i', 'l', 'l', 's']"
      ]
     },
     "execution_count": 6,
     "metadata": {},
     "output_type": "execute_result"
    }
   ],
   "source": [
    "l1"
   ]
  },
  {
   "cell_type": "code",
   "execution_count": 7,
   "id": "4a2083d7-8d9f-43ec-b4b9-2440d2171529",
   "metadata": {},
   "outputs": [],
   "source": [
    "# Question-9-Answer"
   ]
  },
  {
   "cell_type": "code",
   "execution_count": 10,
   "id": "3be86e76-34ed-4eff-8a5b-c85c7e261d2b",
   "metadata": {},
   "outputs": [
    {
     "data": {
      "text/plain": [
       "range(0, 101)"
      ]
     },
     "execution_count": 10,
     "metadata": {},
     "output_type": "execute_result"
    }
   ],
   "source": [
    "range(101)"
   ]
  },
  {
   "cell_type": "code",
   "execution_count": 13,
   "id": "42589447-3282-457b-963e-ee1903e09552",
   "metadata": {},
   "outputs": [],
   "source": [
    " l=list(range(101))"
   ]
  },
  {
   "cell_type": "code",
   "execution_count": 14,
   "id": "d65e8189-c07a-4e8a-9f24-7d447426be43",
   "metadata": {},
   "outputs": [
    {
     "data": {
      "text/plain": [
       "[0,\n",
       " 1,\n",
       " 2,\n",
       " 3,\n",
       " 4,\n",
       " 5,\n",
       " 6,\n",
       " 7,\n",
       " 8,\n",
       " 9,\n",
       " 10,\n",
       " 11,\n",
       " 12,\n",
       " 13,\n",
       " 14,\n",
       " 15,\n",
       " 16,\n",
       " 17,\n",
       " 18,\n",
       " 19,\n",
       " 20,\n",
       " 21,\n",
       " 22,\n",
       " 23,\n",
       " 24,\n",
       " 25,\n",
       " 26,\n",
       " 27,\n",
       " 28,\n",
       " 29,\n",
       " 30,\n",
       " 31,\n",
       " 32,\n",
       " 33,\n",
       " 34,\n",
       " 35,\n",
       " 36,\n",
       " 37,\n",
       " 38,\n",
       " 39,\n",
       " 40,\n",
       " 41,\n",
       " 42,\n",
       " 43,\n",
       " 44,\n",
       " 45,\n",
       " 46,\n",
       " 47,\n",
       " 48,\n",
       " 49,\n",
       " 50,\n",
       " 51,\n",
       " 52,\n",
       " 53,\n",
       " 54,\n",
       " 55,\n",
       " 56,\n",
       " 57,\n",
       " 58,\n",
       " 59,\n",
       " 60,\n",
       " 61,\n",
       " 62,\n",
       " 63,\n",
       " 64,\n",
       " 65,\n",
       " 66,\n",
       " 67,\n",
       " 68,\n",
       " 69,\n",
       " 70,\n",
       " 71,\n",
       " 72,\n",
       " 73,\n",
       " 74,\n",
       " 75,\n",
       " 76,\n",
       " 77,\n",
       " 78,\n",
       " 79,\n",
       " 80,\n",
       " 81,\n",
       " 82,\n",
       " 83,\n",
       " 84,\n",
       " 85,\n",
       " 86,\n",
       " 87,\n",
       " 88,\n",
       " 89,\n",
       " 90,\n",
       " 91,\n",
       " 92,\n",
       " 93,\n",
       " 94,\n",
       " 95,\n",
       " 96,\n",
       " 97,\n",
       " 98,\n",
       " 99,\n",
       " 100]"
      ]
     },
     "execution_count": 14,
     "metadata": {},
     "output_type": "execute_result"
    }
   ],
   "source": [
    "l"
   ]
  },
  {
   "cell_type": "code",
   "execution_count": 24,
   "id": "35163fb7-339d-4551-91c3-93ec6c85b54f",
   "metadata": {},
   "outputs": [],
   "source": [
    "l1=[]\n",
    "for i in l :\n",
    "    if i%2!=0:\n",
    "        l1.append(i)"
   ]
  },
  {
   "cell_type": "code",
   "execution_count": 25,
   "id": "e131ddb2-4f7c-436e-b19e-bb1cc9158199",
   "metadata": {},
   "outputs": [
    {
     "data": {
      "text/plain": [
       "[1,\n",
       " 3,\n",
       " 5,\n",
       " 7,\n",
       " 9,\n",
       " 11,\n",
       " 13,\n",
       " 15,\n",
       " 17,\n",
       " 19,\n",
       " 21,\n",
       " 23,\n",
       " 25,\n",
       " 27,\n",
       " 29,\n",
       " 31,\n",
       " 33,\n",
       " 35,\n",
       " 37,\n",
       " 39,\n",
       " 41,\n",
       " 43,\n",
       " 45,\n",
       " 47,\n",
       " 49,\n",
       " 51,\n",
       " 53,\n",
       " 55,\n",
       " 57,\n",
       " 59,\n",
       " 61,\n",
       " 63,\n",
       " 65,\n",
       " 67,\n",
       " 69,\n",
       " 71,\n",
       " 73,\n",
       " 75,\n",
       " 77,\n",
       " 79,\n",
       " 81,\n",
       " 83,\n",
       " 85,\n",
       " 87,\n",
       " 89,\n",
       " 91,\n",
       " 93,\n",
       " 95,\n",
       " 97,\n",
       " 99]"
      ]
     },
     "execution_count": 25,
     "metadata": {},
     "output_type": "execute_result"
    }
   ],
   "source": [
    "l1"
   ]
  },
  {
   "cell_type": "code",
   "execution_count": 26,
   "id": "f10be668-ec84-4ac1-ae5e-037cf85633ce",
   "metadata": {},
   "outputs": [],
   "source": [
    "# Question-3-Answer"
   ]
  },
  {
   "cell_type": "code",
   "execution_count": 30,
   "id": "c1e16045-5ba4-4401-ae32-15f893ecd61c",
   "metadata": {},
   "outputs": [
    {
     "data": {
      "text/plain": [
       "'An iterator is an object that contains a countable number of values.\\n\\nAn iterator is an object that can be iterated upon, meaning that you can traverse through all the values.\\n\\nTechnically, in Python, an iterator is an object which implements the iterator protocol, which consist of the methods __iter__() and __next__().\\nLists, tuples, dictionaries, and sets are all iterable objects. They are iterable containers which you can get an iterator from.\\n\\nAll these objects have a iter() method which is used to get an iterator:\\nEven strings are iterable objects, and can return an iterator:\\nWe can also use a for loop to iterate through an iterable object:\\nThe for loop actually creates an iterator object and executes the next() method for each loop.\\nTo create an object/class as an iterator you have to implement the methods __iter__() and __next__() to your object.\\nThe __iter__() method acts similar, you can do operations (initializing etc.), but must always return the iterator object itself.\\nThe __next__() method also allows you to do operations, and must return the next item in the sequence.\\n\\nTo prevent the iteration from going on forever, we can use the StopIteration statement.\\n\\nIn the __next__() method, we can add a terminating condition to raise an error if the iteration is done a specified number of times:'"
      ]
     },
     "execution_count": 30,
     "metadata": {},
     "output_type": "execute_result"
    }
   ],
   "source": [
    "'''An iterator is an object that contains a countable number of values.\n",
    "\n",
    "An iterator is an object that can be iterated upon, meaning that you can traverse through all the values.\n",
    "\n",
    "Technically, in Python, an iterator is an object which implements the iterator protocol, which consist of the methods __iter__() and __next__().\n",
    "Lists, tuples, dictionaries, and sets are all iterable objects. They are iterable containers which you can get an iterator from.\n",
    "\n",
    "All these objects have a iter() method which is used to get an iterator:\n",
    "Even strings are iterable objects, and can return an iterator:\n",
    "We can also use a for loop to iterate through an iterable object:\n",
    "The for loop actually creates an iterator object and executes the next() method for each loop.\n",
    "To create an object/class as an iterator you have to implement the methods __iter__() and __next__() to your object.\n",
    "The __iter__() method acts similar, you can do operations (initializing etc.), but must always return the iterator object itself.\n",
    "The __next__() method also allows you to do operations, and must return the next item in the sequence.\n",
    "\n",
    "To prevent the iteration from going on forever, we can use the StopIteration statement.\n",
    "\n",
    "In the __next__() method, we can add a terminating condition to raise an error if the iteration is done a specified number of times:'''\n"
   ]
  },
  {
   "cell_type": "code",
   "execution_count": 31,
   "id": "42d30a07-4edb-4ce7-897e-f1ef76c07f3d",
   "metadata": {},
   "outputs": [],
   "source": [
    "l=[2,4,6,8,10,12,14,16,18,20]"
   ]
  },
  {
   "cell_type": "code",
   "execution_count": 36,
   "id": "8ed2ca64-14be-4496-8a0b-107aec0adda9",
   "metadata": {},
   "outputs": [],
   "source": [
    "l1=iter(l)"
   ]
  },
  {
   "cell_type": "code",
   "execution_count": 37,
   "id": "7c41b355-0443-422e-b584-592564fdca56",
   "metadata": {},
   "outputs": [
    {
     "data": {
      "text/plain": [
       "list_iterator"
      ]
     },
     "execution_count": 37,
     "metadata": {},
     "output_type": "execute_result"
    }
   ],
   "source": [
    "type(l1)"
   ]
  },
  {
   "cell_type": "code",
   "execution_count": 38,
   "id": "007be036-b808-4233-9d6f-f6401b666aed",
   "metadata": {},
   "outputs": [
    {
     "data": {
      "text/plain": [
       "2"
      ]
     },
     "execution_count": 38,
     "metadata": {},
     "output_type": "execute_result"
    }
   ],
   "source": [
    "next(l1)"
   ]
  },
  {
   "cell_type": "code",
   "execution_count": 39,
   "id": "d69ef052-a133-4520-8650-134af1dfaaf4",
   "metadata": {},
   "outputs": [
    {
     "data": {
      "text/plain": [
       "4"
      ]
     },
     "execution_count": 39,
     "metadata": {},
     "output_type": "execute_result"
    }
   ],
   "source": [
    "next(l1)"
   ]
  },
  {
   "cell_type": "code",
   "execution_count": 40,
   "id": "5486f0e5-aa3a-4af7-b5d8-6b8fc1381159",
   "metadata": {},
   "outputs": [
    {
     "data": {
      "text/plain": [
       "6"
      ]
     },
     "execution_count": 40,
     "metadata": {},
     "output_type": "execute_result"
    }
   ],
   "source": [
    "next(l1)"
   ]
  },
  {
   "cell_type": "code",
   "execution_count": 41,
   "id": "d828e6e9-f8e5-42ab-903c-d2cef3940118",
   "metadata": {},
   "outputs": [
    {
     "data": {
      "text/plain": [
       "8"
      ]
     },
     "execution_count": 41,
     "metadata": {},
     "output_type": "execute_result"
    }
   ],
   "source": [
    "next(l1)"
   ]
  },
  {
   "cell_type": "code",
   "execution_count": 42,
   "id": "3d1fe216-10a4-41cd-b0f2-3ccb5f3e5fee",
   "metadata": {},
   "outputs": [
    {
     "data": {
      "text/plain": [
       "10"
      ]
     },
     "execution_count": 42,
     "metadata": {},
     "output_type": "execute_result"
    }
   ],
   "source": [
    "next(l1)"
   ]
  },
  {
   "cell_type": "code",
   "execution_count": 43,
   "id": "f2acf4b5-b58c-429e-a6e5-50e9944421e2",
   "metadata": {},
   "outputs": [],
   "source": [
    "# Question - 4- Answer"
   ]
  },
  {
   "cell_type": "code",
   "execution_count": 44,
   "id": "11cee823-ee80-4757-a552-f3ccc9bad98e",
   "metadata": {},
   "outputs": [
    {
     "data": {
      "text/plain": [
       "'generator functions are a special kind of function that return a lazy iterator. These are objects that you can loop over like a list. However, unlike lists, lazy iterators do not store their contents in memory\\nUsing yield will result in a generator object.\\nUsing return will result in the first line of the file only.\\nInstead of using a for loop, you can also call next() on the generator object directly. This is especially useful for testing a generator in the console:\\n\\nthe yield statement only pauses the execution of the function. \\nyield statements are executed when the function resumes its execution\\nUsing yield keyword is highly memory efficient, since the execution happens only when the caller iterates over the object.\\nAs the variables states are saved, we can pause and resume from the same point, thus saving time.\\nAs the variables states are saved, we can pause and resume from the same point, thus saving time.'"
      ]
     },
     "execution_count": 44,
     "metadata": {},
     "output_type": "execute_result"
    }
   ],
   "source": [
    "'''generator functions are a special kind of function that return a lazy iterator. These are objects that you can loop over like a list. However, unlike lists, lazy iterators do not store their contents in memory\n",
    "Using yield will result in a generator object.\n",
    "Using return will result in the first line of the file only.\n",
    "Instead of using a for loop, you can also call next() on the generator object directly. This is especially useful for testing a generator in the console:\n",
    "\n",
    "the yield statement only pauses the execution of the function. \n",
    "yield statements are executed when the function resumes its execution\n",
    "Using yield keyword is highly memory efficient, since the execution happens only when the caller iterates over the object.\n",
    "As the variables states are saved, we can pause and resume from the same point, thus saving time.\n",
    "As the variables states are saved, we can pause and resume from the same point, thus saving time.'''\n"
   ]
  },
  {
   "cell_type": "code",
   "execution_count": 45,
   "id": "ae180ef1-aa12-44cf-a97a-ee33f83927dd",
   "metadata": {},
   "outputs": [],
   "source": [
    "def test4():\n",
    "    a,b=0,1\n",
    "    while True:\n",
    "        a,b= b,a+b\n",
    "        yield a"
   ]
  },
  {
   "cell_type": "code",
   "execution_count": 46,
   "id": "6c3315ed-f371-4fe4-a967-02eb2aed2e3f",
   "metadata": {},
   "outputs": [
    {
     "data": {
      "text/plain": [
       "<generator object test4 at 0x7fb3711cc6d0>"
      ]
     },
     "execution_count": 46,
     "metadata": {},
     "output_type": "execute_result"
    }
   ],
   "source": [
    "test4()"
   ]
  },
  {
   "cell_type": "code",
   "execution_count": 47,
   "id": "8db28a10-cd37-4935-9ac6-bdebf8f41b08",
   "metadata": {},
   "outputs": [],
   "source": [
    "fib= test4()"
   ]
  },
  {
   "cell_type": "code",
   "execution_count": 48,
   "id": "922168dd-9b6e-4480-a2f2-e7685b74c853",
   "metadata": {},
   "outputs": [
    {
     "data": {
      "text/plain": [
       "<generator object test4 at 0x7fb3711cc7b0>"
      ]
     },
     "execution_count": 48,
     "metadata": {},
     "output_type": "execute_result"
    }
   ],
   "source": [
    "fib"
   ]
  },
  {
   "cell_type": "code",
   "execution_count": 50,
   "id": "98aa9c45-cc0b-43e4-ab8a-64fd30565f97",
   "metadata": {},
   "outputs": [],
   "source": [
    "# Question-8-Answer"
   ]
  },
  {
   "cell_type": "code",
   "execution_count": 72,
   "id": "3c11cdce-10f7-4824-aaa3-e070d10cc2ab",
   "metadata": {},
   "outputs": [
    {
     "ename": "IndentationError",
     "evalue": "unindent does not match any outer indentation level (<tokenize>, line 6)",
     "output_type": "error",
     "traceback": [
      "\u001b[0;36m  File \u001b[0;32m<tokenize>:6\u001b[0;36m\u001b[0m\n\u001b[0;31m    reverse * 10 + remainder\u001b[0m\n\u001b[0m    ^\u001b[0m\n\u001b[0;31mIndentationError\u001b[0m\u001b[0;31m:\u001b[0m unindent does not match any outer indentation level\n"
     ]
    }
   ],
   "source": [
    "num = 11\n",
    "reverse = 0\n",
    "number = num\n",
    "while(num != 0):\n",
    "           remainder = num % 10\n",
    "        reverse * 10 + remainder\n",
    "         num = int(num / 10)\n",
    "if(number == reverse):\n",
    "       print(number,'is a Palindrome')\n",
    "else:\n",
    "           print(number,'is not a Palindrome')"
   ]
  },
  {
   "cell_type": "code",
   "execution_count": 73,
   "id": "e8781ee2-609b-485b-ad38-175c6f791a2d",
   "metadata": {},
   "outputs": [],
   "source": [
    "# Question- 5-Answer"
   ]
  },
  {
   "cell_type": "code",
   "execution_count": 74,
   "id": "1fc4ce67-eefe-42f6-ae30-94c2b87f21be",
   "metadata": {},
   "outputs": [
    {
     "data": {
      "text/plain": [
       "range(0, 1000)"
      ]
     },
     "execution_count": 74,
     "metadata": {},
     "output_type": "execute_result"
    }
   ],
   "source": [
    "range(1000)"
   ]
  },
  {
   "cell_type": "code",
   "execution_count": 117,
   "id": "8e24900f-21fb-487e-85c9-dc73703fef4a",
   "metadata": {},
   "outputs": [],
   "source": [
    "def test5():\n",
    "    l1=[]\n",
    "    for i in range(0,1000):\n",
    "        for j in range (0,1000):\n",
    "            if ((i%j)!=0):\n",
    "                l1.append(i)\n",
    "            \n",
    "        "
   ]
  },
  {
   "cell_type": "code",
   "execution_count": 119,
   "id": "a2780c16-b872-4377-a17c-f3ecd28a3eaf",
   "metadata": {},
   "outputs": [
    {
     "data": {
      "text/plain": [
       "<list_iterator at 0x7fb3715b9ba0>"
      ]
     },
     "execution_count": 119,
     "metadata": {},
     "output_type": "execute_result"
    }
   ],
   "source": [
    "l1"
   ]
  },
  {
   "cell_type": "code",
   "execution_count": 112,
   "id": "1d6cba75-0598-44ab-97df-95c6c4d0126d",
   "metadata": {},
   "outputs": [
    {
     "data": {
      "text/plain": [
       "12"
      ]
     },
     "execution_count": 112,
     "metadata": {},
     "output_type": "execute_result"
    }
   ],
   "source": [
    "next(l1)"
   ]
  },
  {
   "cell_type": "code",
   "execution_count": 120,
   "id": "d186fa72-1b49-457d-b8a3-6fb103e9dff5",
   "metadata": {},
   "outputs": [
    {
     "data": {
      "text/plain": [
       "14"
      ]
     },
     "execution_count": 120,
     "metadata": {},
     "output_type": "execute_result"
    }
   ],
   "source": [
    "next(l1)"
   ]
  },
  {
   "cell_type": "code",
   "execution_count": 121,
   "id": "73aa6b03-b38c-4ed3-86d8-fe566a53eb55",
   "metadata": {},
   "outputs": [],
   "source": [
    "# Question - 6- Answer"
   ]
  },
  {
   "cell_type": "code",
   "execution_count": 124,
   "id": "37c21eb2-9898-44df-a80b-839ff6c542e5",
   "metadata": {},
   "outputs": [],
   "source": [
    "def test_fib1():\n",
    "    a,b=0,1\n",
    "    while True:\n",
    "        yield a\n",
    "        a,b=b,a+b"
   ]
  },
  {
   "cell_type": "code",
   "execution_count": 125,
   "id": "32d68bc6-cd9b-429a-941f-8ef852ff0680",
   "metadata": {},
   "outputs": [],
   "source": [
    "fib=test_fib1()"
   ]
  },
  {
   "cell_type": "code",
   "execution_count": null,
   "id": "55b82759-bcc8-480d-bd83-08a4d24549fa",
   "metadata": {},
   "outputs": [],
   "source": [
    "for i in ran"
   ]
  }
 ],
 "metadata": {
  "kernelspec": {
   "display_name": "Python 3 (ipykernel)",
   "language": "python",
   "name": "python3"
  },
  "language_info": {
   "codemirror_mode": {
    "name": "ipython",
    "version": 3
   },
   "file_extension": ".py",
   "mimetype": "text/x-python",
   "name": "python",
   "nbconvert_exporter": "python",
   "pygments_lexer": "ipython3",
   "version": "3.10.8"
  }
 },
 "nbformat": 4,
 "nbformat_minor": 5
}
